{
  "nbformat": 4,
  "nbformat_minor": 0,
  "metadata": {
    "colab": {
      "name": "SA_test.ipynb",
      "provenance": [],
      "toc_visible": true,
      "authorship_tag": "ABX9TyPoizITmyjcs/noBRt41dbE",
      "include_colab_link": true
    },
    "kernelspec": {
      "name": "python3",
      "display_name": "Python 3"
    },
    "language_info": {
      "name": "python"
    }
  },
  "cells": [
    {
      "cell_type": "markdown",
      "metadata": {
        "id": "view-in-github",
        "colab_type": "text"
      },
      "source": [
        "<a href=\"https://colab.research.google.com/github/svetaU/Attention/blob/main/SA_test.ipynb\" target=\"_parent\"><img src=\"https://colab.research.google.com/assets/colab-badge.svg\" alt=\"Open In Colab\"/></a>"
      ]
    },
    {
      "cell_type": "code",
      "source": [
        "import numpy as np\n",
        "import math\n",
        "try:\n",
        "  import einops\n",
        "except ModuleNotFoundError: \n",
        "  !pip install --quiet einops\n",
        "from einops import rearrange\n",
        "import torch\n",
        "from torch import nn\n",
        "import torch.nn.functional as F\n",
        "#try:\n",
        "#    import pytorch_lightning as pl\n",
        "#except ModuleNotFoundError: \n",
        "#    !pip install --quiet pytorch-lightning>=1.5\n",
        "#    import pytorch_lightning as pl"
      ],
      "metadata": {
        "id": "lVRUfgaGk9-t"
      },
      "execution_count": 1,
      "outputs": []
    },
    {
      "cell_type": "markdown",
      "source": [
        "# Test data setup"
      ],
      "metadata": {
        "id": "TKi9LwpyIYnZ"
      }
    },
    {
      "cell_type": "code",
      "source": [
        "# 2 batches with 1 sequence of 3 tokens, each token dim = 3\n",
        "x = torch.tensor([[[1.,1.,0.], [2.,2.,1.], [3.,3.,2.]], [[4.,4.,3.], [5.,5.,4.], [6.,6.,5.]]])\n",
        "xm = torch.tensor([[[1.,1.,0.,1.,1.,0.], [2.,2.,1.,2.,2.,1.], [3.,3.,2.,3.,3.,2.]], \n",
        "                  [[4.,4.,3.,4.,4.,3.], [5.,5.,4.,5.,5.,4.], [6.,6.,5.,6.,6.,5.]]])\n",
        "w = torch.tensor([[1., -1., -1.],\n",
        "        [1., 1., 1.],\n",
        "        [ -1.,  -1., 1.],\n",
        "        [1.,  1., 1.],\n",
        "        [ -1.,  1.,  -1.],\n",
        "        [1.,  1., 1.],\n",
        "        [1., -1.,  1.],\n",
        "        [ 1., 1., 1.],\n",
        "        [-1.,  1., 1.]])"
      ],
      "metadata": {
        "id": "0TTzVMnVIX1F"
      },
      "execution_count": 2,
      "outputs": []
    },
    {
      "cell_type": "code",
      "source": [
        "dim = x.shape[2]\n",
        "to_qvk = nn.Linear(dim, dim * 3, bias=False)\n",
        "with torch.no_grad():\n",
        "    to_qvk.weight.copy_(w)\n",
        "    qkv = to_qvk(x)\n",
        "    q, k, v = tuple(rearrange(qkv, 'b t (d k) -> k b t d ', k=3))"
      ],
      "metadata": {
        "id": "hGrrXKosI8nj"
      },
      "execution_count": 3,
      "outputs": []
    },
    {
      "cell_type": "markdown",
      "source": [
        "# Function1 for single head "
      ],
      "metadata": {
        "id": "GVSczTOCI-3A"
      }
    },
    {
      "cell_type": "code",
      "source": [
        "def single_head_attention_1(q, k, v, mask=None):\n",
        "    attn_logits = torch.matmul(q, k.transpose(-2, -1)) / math.sqrt(q.size()[-1])\n",
        "    if mask is not None:\n",
        "        attn_logits = attn_logits.masked_fill(mask == 0, -9e15)\n",
        "    attention = F.softmax(attn_logits, dim=-1)\n",
        "    values = torch.matmul(attention, v)\n",
        "    return values, attention"
      ],
      "metadata": {
        "id": "t-gacYSSJHQM"
      },
      "execution_count": 11,
      "outputs": []
    },
    {
      "cell_type": "markdown",
      "source": [
        "# Function2 for single head "
      ],
      "metadata": {
        "id": "N9kCW48fJfyD"
      }
    },
    {
      "cell_type": "code",
      "source": [
        "def single_head_attention_2(q, k, v, mask=None):\n",
        "  scaled_dot_prod = torch.einsum('b i d , b j d -> b i j', q, k) / math.sqrt(q.size()[-1])\n",
        "  if mask is not None:\n",
        "    assert mask.shape == scaled_dot_prod.shape[1:]\n",
        "    scaled_dot_prod = scaled_dot_prod.masked_fill(mask, -np.inf)\n",
        "  attention = torch.softmax(scaled_dot_prod, dim=-1)\n",
        "  values = torch.einsum('b i j , b j d -> b i d', attention, v)\n",
        "  return values, attention"
      ],
      "metadata": {
        "id": "hwIBPbMfJlez"
      },
      "execution_count": 12,
      "outputs": []
    },
    {
      "cell_type": "markdown",
      "source": [
        "# Function for multihead"
      ],
      "metadata": {
        "id": "WVPCzfvvueDs"
      }
    },
    {
      "cell_type": "code",
      "source": [
        "def multi_head_attention(x,heads,mask=None):\n",
        "  dim = x.size()[-1]\n",
        "  dim_head = dim // heads\n",
        "  to_qvk = nn.Linear(dim, dim_head * heads * 3, bias=False)\n",
        "  qkv = to_qvk(x)\n",
        "  q, k, v = tuple(rearrange(qkv, 'b t (d k h) -> k b h t d ', k=3, h=heads))\n",
        "  scaled_dot_prod = torch.einsum('b h i d , b h j d -> b h i j', q, k) / math.sqrt(q.size()[-1])\n",
        "  if mask is not None:\n",
        "    assert mask.shape == scaled_dot_prod.shape[2:]\n",
        "    scaled_dot_prod = scaled_dot_prod.masked_fill(mask, -np.inf)\n",
        "  attention = torch.softmax(scaled_dot_prod, dim=-1)\n",
        "  values = torch.einsum('b h i j , b h j d -> b h i d', attention, v)\n",
        "  values = rearrange(values, 'b h t d -> b t (h d)')\n",
        "  return values,attention"
      ],
      "metadata": {
        "id": "h8eyV_TsumkY"
      },
      "execution_count": 3,
      "outputs": []
    },
    {
      "cell_type": "markdown",
      "source": [
        "# Test functions"
      ],
      "metadata": {
        "id": "3xQFeA51KMXN"
      }
    },
    {
      "cell_type": "code",
      "source": [
        "values_1, attention_1 = single_head_attention_1(q, k, v)\n",
        "values_2, attention_2 = single_head_attention_2(q, k, v)"
      ],
      "metadata": {
        "id": "RbPtPegfKXpn"
      },
      "execution_count": 13,
      "outputs": []
    },
    {
      "cell_type": "code",
      "source": [
        "heads = 2\n",
        "values_m, attention_m = multi_head_attention(xm,heads)"
      ],
      "metadata": {
        "id": "nAGWBtN4Klrm"
      },
      "execution_count": 4,
      "outputs": []
    },
    {
      "cell_type": "code",
      "source": [
        "values_m[0,0,:]"
      ],
      "metadata": {
        "colab": {
          "base_uri": "https://localhost:8080/"
        },
        "id": "fKf3M2iHScA9",
        "outputId": "bb85c67b-30af-460c-8ff9-2f296044f420"
      },
      "execution_count": 6,
      "outputs": [
        {
          "output_type": "execute_result",
          "data": {
            "text/plain": [
              "tensor([ 1.6464, -0.8931, -0.4826, -1.7495, -0.6201,  0.3286],\n",
              "       grad_fn=<SliceBackward0>)"
            ]
          },
          "metadata": {},
          "execution_count": 6
        }
      ]
    },
    {
      "cell_type": "code",
      "source": [
        ""
      ],
      "metadata": {
        "id": "cPFbgrWlSkP1"
      },
      "execution_count": null,
      "outputs": []
    }
  ]
}