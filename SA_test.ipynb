{
  "nbformat": 4,
  "nbformat_minor": 0,
  "metadata": {
    "colab": {
      "name": "SA_test.ipynb",
      "provenance": [],
      "toc_visible": true,
      "authorship_tag": "ABX9TyMWIOqyyYndy42UUzfr/acM",
      "include_colab_link": true
    },
    "kernelspec": {
      "name": "python3",
      "display_name": "Python 3"
    },
    "language_info": {
      "name": "python"
    }
  },
  "cells": [
    {
      "cell_type": "markdown",
      "metadata": {
        "id": "view-in-github",
        "colab_type": "text"
      },
      "source": [
        "<a href=\"https://colab.research.google.com/github/svetaU/Attention/blob/main/SA_test.ipynb\" target=\"_parent\"><img src=\"https://colab.research.google.com/assets/colab-badge.svg\" alt=\"Open In Colab\"/></a>"
      ]
    },
    {
      "cell_type": "code",
      "source": [
        "import numpy as np\n",
        "import torch\n",
        "try:\n",
        "  import einops\n",
        "except ModuleNotFoundError: \n",
        "  !pip install --quiet einops\n",
        "from einops import rearrange\n",
        "from torch import nn\n",
        "#try:\n",
        "#    import pytorch_lightning as pl\n",
        "#except ModuleNotFoundError: \n",
        "#    !pip install --quiet pytorch-lightning>=1.5\n",
        "#    import pytorch_lightning as pl"
      ],
      "metadata": {
        "id": "lVRUfgaGk9-t"
      },
      "execution_count": 3,
      "outputs": []
    }
  ]
}