{
  "nbformat": 4,
  "nbformat_minor": 0,
  "metadata": {
    "colab": {
      "name": "SA_test.ipynb",
      "provenance": [],
      "toc_visible": true,
      "authorship_tag": "ABX9TyO1YRnjh4z6/9GL0W0MtcnL",
      "include_colab_link": true
    },
    "kernelspec": {
      "name": "python3",
      "display_name": "Python 3"
    },
    "language_info": {
      "name": "python"
    }
  },
  "cells": [
    {
      "cell_type": "markdown",
      "metadata": {
        "id": "view-in-github",
        "colab_type": "text"
      },
      "source": [
        "<a href=\"https://colab.research.google.com/github/svetaU/Attention/blob/main/SA_test.ipynb\" target=\"_parent\"><img src=\"https://colab.research.google.com/assets/colab-badge.svg\" alt=\"Open In Colab\"/></a>"
      ]
    },
    {
      "cell_type": "code",
      "source": [
        "import numpy as np\n",
        "import math\n",
        "try:\n",
        "  import einops\n",
        "except ModuleNotFoundError: \n",
        "  !pip install --quiet einops\n",
        "from einops import rearrange\n",
        "import torch\n",
        "from torch import nn\n",
        "import torch.nn.functional as F\n",
        "#try:\n",
        "#    import pytorch_lightning as pl\n",
        "#except ModuleNotFoundError: \n",
        "#    !pip install --quiet pytorch-lightning>=1.5\n",
        "#    import pytorch_lightning as pl"
      ],
      "metadata": {
        "id": "lVRUfgaGk9-t"
      },
      "execution_count": 4,
      "outputs": []
    },
    {
      "cell_type": "markdown",
      "source": [
        "# Test data setup"
      ],
      "metadata": {
        "id": "TKi9LwpyIYnZ"
      }
    },
    {
      "cell_type": "code",
      "source": [
        "# 2 batches with 1 sequence of 3 tokens, each token dim = 3\n",
        "x = torch.tensor([[[1.,1.,0.], [2.,2.,1.], [3.,3.,2.]], [[4.,4.,3.], [5.,5.,4.], [6.,6.,5.]]])\n",
        "w = torch.tensor([[1., -1., -1.],\n",
        "        [1., 1., 1.],\n",
        "        [ -1.,  -1., 1.],\n",
        "        [1.,  1., 1.],\n",
        "        [ -1.,  1.,  -1.],\n",
        "        [1.,  1., 1.],\n",
        "        [1., -1.,  1.],\n",
        "        [ 1., 1., 1.],\n",
        "        [-1.,  1., 1.]])"
      ],
      "metadata": {
        "id": "0TTzVMnVIX1F"
      },
      "execution_count": 2,
      "outputs": []
    },
    {
      "cell_type": "code",
      "source": [
        "dim = x.shape[2]\n",
        "to_qvk = nn.Linear(dim, dim * 3, bias=False)\n",
        "with torch.no_grad():\n",
        "    to_qvk.weight.copy_(w)\n",
        "    qkv = to_qvk(x)\n",
        "    q, k, v = tuple(rearrange(qkv, 'b t (d k) -> k b t d ', k=3))"
      ],
      "metadata": {
        "id": "hGrrXKosI8nj"
      },
      "execution_count": 3,
      "outputs": []
    },
    {
      "cell_type": "markdown",
      "source": [
        "# Function1 for single head "
      ],
      "metadata": {
        "id": "GVSczTOCI-3A"
      }
    },
    {
      "cell_type": "code",
      "source": [
        "def single_head_attention_1(q, k, v, mask=None):\n",
        "    d_k = q.size()[-1]\n",
        "    attn_logits = torch.matmul(q, k.transpose(-2, -1))\n",
        "    attn_logits = attn_logits / math.sqrt(d_k)\n",
        "    if mask is not None:\n",
        "        attn_logits = attn_logits.masked_fill(mask == 0, -9e15)\n",
        "    attention = F.softmax(attn_logits, dim=-1)\n",
        "    values = torch.matmul(attention, v)\n",
        "    return values, attention"
      ],
      "metadata": {
        "id": "t-gacYSSJHQM"
      },
      "execution_count": 5,
      "outputs": []
    },
    {
      "cell_type": "markdown",
      "source": [
        "# Function2 for single head "
      ],
      "metadata": {
        "id": "N9kCW48fJfyD"
      }
    },
    {
      "cell_type": "code",
      "source": [
        "def single_head_attention_2(q, k, v, mask=None):\n",
        "  scaled_dot_prod = torch.einsum('b i d , b j d -> b i j', q, k) / math.sqrt(q.size()[-1])\n",
        "  if mask is not None:\n",
        "    assert mask.shape == scaled_dot_prod.shape[1:]\n",
        "    scaled_dot_prod = scaled_dot_prod.masked_fill(mask, -np.inf)\n",
        "  attention = torch.softmax(scaled_dot_prod, dim=-1)\n",
        "  values = torch.einsum('b i j , b j d -> b i d', attention, v)\n",
        "  return values, attention"
      ],
      "metadata": {
        "id": "hwIBPbMfJlez"
      },
      "execution_count": 6,
      "outputs": []
    },
    {
      "cell_type": "markdown",
      "source": [
        "# Test functions"
      ],
      "metadata": {
        "id": "3xQFeA51KMXN"
      }
    },
    {
      "cell_type": "code",
      "source": [
        "values_1, attention_1 = single_head_attention_1(q, k, v)\n",
        "values_2, attention_2 = single_head_attention_2(q, k, v)"
      ],
      "metadata": {
        "id": "RbPtPegfKXpn"
      },
      "execution_count": 7,
      "outputs": []
    },
    {
      "cell_type": "code",
      "source": [
        "values_1"
      ],
      "metadata": {
        "colab": {
          "base_uri": "https://localhost:8080/"
        },
        "id": "nAGWBtN4Klrm",
        "outputId": "930f0e14-f32f-4da0-fa55-f83b92b3c16d"
      },
      "execution_count": 8,
      "outputs": [
        {
          "output_type": "execute_result",
          "data": {
            "text/plain": [
              "tensor([[[-2.3632e+00,  3.0897e+00,  3.6324e-01],\n",
              "         [-2.0585e+00,  2.1756e+00,  5.8529e-02],\n",
              "         [-2.0100e+00,  2.0299e+00,  9.9600e-03]],\n",
              "\n",
              "        [[-5.0017e+00,  1.1005e+01,  3.0017e+00],\n",
              "         [-5.0003e+00,  1.1001e+01,  3.0003e+00],\n",
              "         [-5.0001e+00,  1.1000e+01,  3.0001e+00]]])"
            ]
          },
          "metadata": {},
          "execution_count": 8
        }
      ]
    },
    {
      "cell_type": "code",
      "source": [
        "values_2"
      ],
      "metadata": {
        "colab": {
          "base_uri": "https://localhost:8080/"
        },
        "id": "xi5rYWT0Koms",
        "outputId": "0d36600e-7e02-4172-bb7e-9791a1bffc95"
      },
      "execution_count": 9,
      "outputs": [
        {
          "output_type": "execute_result",
          "data": {
            "text/plain": [
              "tensor([[[-2.3632e+00,  3.0897e+00,  3.6324e-01],\n",
              "         [-2.0585e+00,  2.1756e+00,  5.8529e-02],\n",
              "         [-2.0100e+00,  2.0299e+00,  9.9600e-03]],\n",
              "\n",
              "        [[-5.0017e+00,  1.1005e+01,  3.0017e+00],\n",
              "         [-5.0003e+00,  1.1001e+01,  3.0003e+00],\n",
              "         [-5.0001e+00,  1.1000e+01,  3.0001e+00]]])"
            ]
          },
          "metadata": {},
          "execution_count": 9
        }
      ]
    }
  ]
}