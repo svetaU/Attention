{
  "nbformat": 4,
  "nbformat_minor": 0,
  "metadata": {
    "colab": {
      "name": "attnClassifier.ipynb",
      "provenance": [],
      "toc_visible": true,
      "authorship_tag": "ABX9TyM1uaDcpumlFfTELyHa6PEp",
      "include_colab_link": true
    },
    "kernelspec": {
      "name": "python3",
      "display_name": "Python 3"
    },
    "language_info": {
      "name": "python"
    }
  },
  "cells": [
    {
      "cell_type": "markdown",
      "metadata": {
        "id": "view-in-github",
        "colab_type": "text"
      },
      "source": [
        "<a href=\"https://colab.research.google.com/github/svetaU/Attention/blob/main/attnClassifier.ipynb\" target=\"_parent\"><img src=\"https://colab.research.google.com/assets/colab-badge.svg\" alt=\"Open In Colab\"/></a>"
      ]
    },
    {
      "cell_type": "code",
      "execution_count": 1,
      "metadata": {
        "id": "0-jqDvARfMo5"
      },
      "outputs": [],
      "source": [
        "import numpy as np\n",
        "import math\n",
        "try:\n",
        "  import einops\n",
        "except ModuleNotFoundError: \n",
        "  !pip install --quiet einops\n",
        "from einops import rearrange\n",
        "import torch\n",
        "from torch import nn\n",
        "import torch.nn.functional as F\n",
        "#try:\n",
        "#    import pytorch_lightning as pl\n",
        "#except ModuleNotFoundError: \n",
        "#    !pip install --quiet pytorch-lightning>=1.5\n",
        "#    import pytorch_lightning as pl"
      ]
    },
    {
      "cell_type": "markdown",
      "source": [
        "# Attention module"
      ],
      "metadata": {
        "id": "tHuzglHFfpGe"
      }
    },
    {
      "cell_type": "code",
      "source": [
        "class NiptMultiHeadSelfAttention(nn.Module):\n",
        "    \n",
        "    def __init__(self, embed_dim, heads=2, dim_head=None):\n",
        "        super().__init__()\n",
        "        self.dim_head = (int(embed_dim / heads)) if dim_head is None else dim_head\n",
        "        _dim = self.dim_head * heads\n",
        "        self.heads = heads\n",
        "        self.to_qvk = nn.Linear(embed_dim, _dim * 3, bias=False)\n",
        "        self.last_linear = nn.Linear( _dim, dim, bias=False)\n",
        "        self.scale_factor = self.dim_head ** -0.5\n",
        "        \n",
        "        self._init_weights()\n",
        "        \n",
        "    def _init_weights(self):\n",
        "        nn.init.xavier_uniform_(self.to_qvk.weight)\n",
        "        nn.init.xavier_uniform_(self.last_linear.weight)\n",
        "        \n",
        "    def forward(self, x, mask=None, return_attention=False):\n",
        "        assert x.dim() == 3\n",
        "        qkv = self.to_qvk(x)\n",
        "        q, k, v = tuple(rearrange(qkv, 'b t (d k h) -> k b h t d ', k=3, h=self.heads))\n",
        "        scaled_dot_prod = torch.einsum('b h i d , b h j d -> b h i j', q, k) * self.scale_factor\n",
        "        if mask is not None:\n",
        "            assert mask.shape == scaled_dot_prod.shape[2:]\n",
        "            scaled_dot_prod = scaled_dot_prod.masked_fill(mask, -np.inf)\n",
        "\n",
        "        attention = torch.softmax(scaled_dot_prod, dim=-1)\n",
        "        values = torch.einsum('b h i j , b h j d -> b h i d', attention, v)\n",
        "        values = rearrange(values, 'b h t d -> b t (h d)')\n",
        "        output = self.last_linear(values)\n",
        "        if return_attention:\n",
        "            return output, attention\n",
        "        else:\n",
        "            return output"
      ],
      "metadata": {
        "id": "1YlZ2cQofqnf"
      },
      "execution_count": 2,
      "outputs": []
    },
    {
      "cell_type": "markdown",
      "source": [
        "# Encoder Block"
      ],
      "metadata": {
        "id": "bLi3NpjRf3x_"
      }
    },
    {
      "cell_type": "code",
      "source": [
        "class NiptEncoderBlock(nn.Module):\n",
        "    \n",
        "    def __init__(self,embed_dim,heads = 2,dim_head=None,dim_linear_block=1024, dropout = 0.0):\n",
        "        super().__init__()\n",
        "        self.attn_layer = NiptMultiHeadSelfAttention(self, embed_dim=embed_dim, heads=heads, dim_head=dim_head)\n",
        "        self.norm1 = nn.LayerNorm(embed_dim)        \n",
        "        self.norm2 = nn.LayerNorm(embed_dim)\n",
        "        self.drop = nn.Dropout(dropout)\n",
        "        self.linear_net = nn.Sequential(\n",
        "            nn.Linear(embed_dim, dim_linear_block),\n",
        "            nn.Dropout(dropout),\n",
        "            nn.ReLU(inplace=True),\n",
        "            nn.Linear(dim_linear_block, embed_dim)\n",
        "        )\n",
        "        \n",
        "    def forward(self, x, mask=None):\n",
        "        y = self.norm_1(self.drop(self.attn_layer(x, mask)) + x)\n",
        "        return self.norm_2(self.linear_net(y) + y)"
      ],
      "metadata": {
        "id": "lPi_NQcFf7S-"
      },
      "execution_count": 3,
      "outputs": []
    },
    {
      "cell_type": "markdown",
      "source": [
        "# Classifier module"
      ],
      "metadata": {
        "id": "Hf4Q0SIEh20J"
      }
    },
    {
      "cell_type": "code",
      "source": [
        "class NiptAttentionClassifier(nn.Module):\n",
        "    \n",
        "    def __init__(self, embed_dim, num_layers=6,  **block_args):\n",
        "        super().__init__()\n",
        "        self.layers = nn.ModuleList([NiptEncoderBlock(embed_dim,**block_args) for _ in range(num_layers)])\n",
        "        self.fc = nn.Linear(embed_dim,2)\n",
        "        \n",
        "    def forward(self, x, mask=None):\n",
        "        for l in self.layers:\n",
        "            x = l(x, mask=mask)\n",
        "        scores = self.fc(x)\n",
        "        scores = torch.softmax(scores,dim=-1)\n",
        "        return scores"
      ],
      "metadata": {
        "id": "QzGVQoarh79F"
      },
      "execution_count": 4,
      "outputs": []
    }
  ]
}